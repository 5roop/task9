{
 "cells": [
  {
   "cell_type": "code",
   "execution_count": 1,
   "metadata": {},
   "outputs": [],
   "source": [
    "import pandas as pd\n",
    "import os\n",
    "outdir = \"/data1/peterr/bilingual_data_for_ABClf_output\""
   ]
  },
  {
   "cell_type": "code",
   "execution_count": 2,
   "metadata": {},
   "outputs": [
    {
     "data": {
      "text/plain": [
       "['en-sl.deduped.txtABClf_output.csv',\n",
       " 'en-hr.deduped.txtABClf_output.csv',\n",
       " 'en-bg.deduped.txtABClf_output.csv',\n",
       " 'en-mk.deduped.txtABClf_output.csv']"
      ]
     },
     "execution_count": 2,
     "metadata": {},
     "output_type": "execute_result"
    }
   ],
   "source": [
    "os.listdir(outdir)"
   ]
  },
  {
   "cell_type": "code",
   "execution_count": 3,
   "metadata": {},
   "outputs": [
    {
     "data": {
      "text/html": [
       "<div>\n",
       "<style scoped>\n",
       "    .dataframe tbody tr th:only-of-type {\n",
       "        vertical-align: middle;\n",
       "    }\n",
       "\n",
       "    .dataframe tbody tr th {\n",
       "        vertical-align: top;\n",
       "    }\n",
       "\n",
       "    .dataframe thead th {\n",
       "        text-align: right;\n",
       "    }\n",
       "</style>\n",
       "<table border=\"1\" class=\"dataframe\">\n",
       "  <thead>\n",
       "    <tr style=\"text-align: right;\">\n",
       "      <th></th>\n",
       "      <th>url</th>\n",
       "      <th>text</th>\n",
       "      <th>variant_unbalanced</th>\n",
       "      <th>per_token_unbalanced</th>\n",
       "      <th>variant_balanced</th>\n",
       "      <th>per_token_balanced</th>\n",
       "      <th>domain</th>\n",
       "    </tr>\n",
       "  </thead>\n",
       "  <tbody>\n",
       "    <tr>\n",
       "      <th>0</th>\n",
       "      <td>http://1-32-10-vacation-stay-16368.tokyohotelt...</td>\n",
       "      <td>1-32-10 / Vacation Stay 16368 Tokyo 1-32-10 / ...</td>\n",
       "      <td>A</td>\n",
       "      <td>{'vacation': {'variant': 'A', 'count': 3}}</td>\n",
       "      <td>A</td>\n",
       "      <td>{'vacation': {'variant': 'A', 'count': 3}}</td>\n",
       "      <td>1-32-10-vacation-stay-16368.tokyohoteltour.com</td>\n",
       "    </tr>\n",
       "    <tr>\n",
       "      <th>1</th>\n",
       "      <td>http://1001x.blogspot.com/2011/07/bloody-frida...</td>\n",
       "      <td>bloody friday a cannibal feast of Death like i...</td>\n",
       "      <td>UNK</td>\n",
       "      <td>{}</td>\n",
       "      <td>UNK</td>\n",
       "      <td>{}</td>\n",
       "      <td>1001x.blogspot.com</td>\n",
       "    </tr>\n",
       "    <tr>\n",
       "      <th>2</th>\n",
       "      <td>http://1001x.blogspot.com/2012/06/take-it-for-...</td>\n",
       "      <td>i catch a falling star on my nightway home i d...</td>\n",
       "      <td>UNK</td>\n",
       "      <td>{}</td>\n",
       "      <td>UNK</td>\n",
       "      <td>{}</td>\n",
       "      <td>1001x.blogspot.com</td>\n",
       "    </tr>\n",
       "  </tbody>\n",
       "</table>\n",
       "</div>"
      ],
      "text/plain": [
       "                                                 url  \\\n",
       "0  http://1-32-10-vacation-stay-16368.tokyohotelt...   \n",
       "1  http://1001x.blogspot.com/2011/07/bloody-frida...   \n",
       "2  http://1001x.blogspot.com/2012/06/take-it-for-...   \n",
       "\n",
       "                                                text variant_unbalanced  \\\n",
       "0  1-32-10 / Vacation Stay 16368 Tokyo 1-32-10 / ...                  A   \n",
       "1  bloody friday a cannibal feast of Death like i...                UNK   \n",
       "2  i catch a falling star on my nightway home i d...                UNK   \n",
       "\n",
       "                         per_token_unbalanced variant_balanced  \\\n",
       "0  {'vacation': {'variant': 'A', 'count': 3}}                A   \n",
       "1                                          {}              UNK   \n",
       "2                                          {}              UNK   \n",
       "\n",
       "                           per_token_balanced  \\\n",
       "0  {'vacation': {'variant': 'A', 'count': 3}}   \n",
       "1                                          {}   \n",
       "2                                          {}   \n",
       "\n",
       "                                           domain  \n",
       "0  1-32-10-vacation-stay-16368.tokyohoteltour.com  \n",
       "1                              1001x.blogspot.com  \n",
       "2                              1001x.blogspot.com  "
      ]
     },
     "execution_count": 3,
     "metadata": {},
     "output_type": "execute_result"
    }
   ],
   "source": [
    "df = pd.read_csv(\n",
    "    os.path.join(\n",
    "        outdir, os.listdir(outdir)[0]\n",
    "    )\n",
    ")\n",
    "df.head(3)"
   ]
  },
  {
   "cell_type": "code",
   "execution_count": 8,
   "metadata": {},
   "outputs": [
    {
     "data": {
      "image/png": "[encoded data removed]",
      "text/plain": [
       "<Figure size 432x288 with 2 Axes>"
      ]
     },
     "metadata": {
      "needs_background": "light"
     },
     "output_type": "display_data"
    }
   ],
   "source": [
    "\n",
    "import matplotlib.pyplot as plt\n",
    "from sklearn.datasets import make_classification\n",
    "from sklearn.metrics import ConfusionMatrixDisplay\n",
    "from sklearn.model_selection import train_test_split\n",
    "\n",
    "y_test = df.variant_unbalanced\n",
    "y_pred = df.variant_balanced\n",
    "\n",
    "ConfusionMatrixDisplay.from_predictions(\n",
    "   y_test, y_pred, cmap=\"Oranges\")\n",
    "plt.xlabel(\"Balanced\")\n",
    "plt.ylabel(\"Unbalanced\")\n",
    "\n",
    "plt.show()\n"
   ]
  },
  {
   "cell_type": "code",
   "execution_count": 5,
   "metadata": {},
   "outputs": [
    {
     "data": {
      "text/plain": [
       "'1.0'"
      ]
     },
     "execution_count": 5,
     "metadata": {},
     "output_type": "execute_result"
    }
   ],
   "source": [
    "import sklearn\n",
    "sklearn.__version__"
   ]
  },
  {
   "cell_type": "code",
   "execution_count": null,
   "metadata": {},
   "outputs": [],
   "source": []
  }
 ],
 "metadata": {
  "interpreter": {
   "hash": "7f6f5766036ee03d059e365a942add07f79c17033585e9357ee8157d52fe6bb9"
  },
  "kernelspec": {
   "display_name": "Python 3.8.3 ('base')",
   "language": "python",
   "name": "python3"
  },
  "language_info": {
   "codemirror_mode": {
    "name": "ipython",
    "version": 3
   },
   "file_extension": ".py",
   "mimetype": "text/x-python",
   "name": "python",
   "nbconvert_exporter": "python",
   "pygments_lexer": "ipython3",
   "version": "3.9.7"
  },
  "orig_nbformat": 4
 },
 "nbformat": 4,
 "nbformat_minor": 2
}
