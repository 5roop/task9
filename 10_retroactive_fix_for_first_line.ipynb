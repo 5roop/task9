{
 "cells": [
  {
   "cell_type": "code",
   "execution_count": 7,
   "metadata": {},
   "outputs": [],
   "source": [
    "import pandas as pd\n",
    "import os\n",
    "import sys\n",
    "import csv\n",
    "csv.field_size_limit(131072<<4)"
   ]
  },
  {
   "cell_type": "code",
   "execution_count": 36,
   "metadata": {},
   "outputs": [
    {
     "name": "stdout",
     "output_type": "stream",
     "text": [
      "en-sl.deduped.txt\n",
      "en-hr.deduped.txt\n",
      "en-bg.deduped.txt\n",
      "en-mk.deduped.txt\n",
      "en-is.deduped.txt\n",
      "is\n",
      "Shape of existing df: (2323530, 15)\n",
      "Shape of corrected df: (2323531, 15)\n",
      "en-mt.deduped.txt\n",
      "mt\n",
      "Shape of existing df: (2585068, 15)\n",
      "Shape of corrected df: (2585069, 15)\n",
      "en-tr.deduped.txt\n",
      "tr\n",
      "Shape of existing df: (44286136, 15)\n",
      "Shape of corrected df: (44286137, 15)\n"
     ]
    }
   ],
   "source": [
    "inputdir = \"/data1/peterr/bilingual_data_for_ABClf/\"\n",
    "outdir = \"/data1/peterr/bilingual_data_for_ABClf_output/tsv/\"\n",
    "\n",
    "\n",
    "import parse\n",
    "def get_domain(url:str) -> str:\n",
    "    pattern = \"{protocol}://{domain}/{rest}\"\n",
    "    p = parse.compile(pattern)\n",
    "    modified_pattern = \"{protocol}://{domain}/\"\n",
    "    mp = parse.compile(modified_pattern)\n",
    "    try:\n",
    "        parse_result = p.parse(url)\n",
    "        domain = parse_result[\"domain\"]\n",
    "    except TypeError:\n",
    "        parse_result = mp.parse(url)\n",
    "        domain = parse_result[\"domain\"]\n",
    "    return domain\n",
    "from ABClf import load_lexicon, get_variant, count_variants, counts_to_category\n",
    "lex = load_lexicon()\n",
    "cols = \"URL_en    URL_is    sent_en    sent_is    bleualign_score    paragraph_id_en    paragraph_id_is    deferred_hash_en    deferred_hash_is          bifixer_hash    bifixer_score    bicleaner_ai_score\".split()\n",
    "for file in os.listdir(inputdir):\n",
    "    if not file.endswith(\".txt\"): \n",
    "        continue\n",
    "    print(file)\n",
    "    p = parse.compile(\"en-{lang}.deduped.txt\")\n",
    "    parse_results = p.parse(file)\n",
    "    lang = parse_results[\"lang\"]\n",
    "    print(lang)\n",
    "\n",
    "    origdf = pd.read_csv(\n",
    "        os.path.join(\n",
    "            inputdir,\n",
    "            file\n",
    "        ),\n",
    "        sep=\"\\t\",\n",
    "        header=None,\n",
    "        nrows=10\n",
    "    )\n",
    "    origdf.columns = [col.replace(\"_is\", f\"_{lang}\") for col in cols]\n",
    "    for i, row in origdf.iterrows():\n",
    "        en_text = row[\"sent_en\"]\n",
    "        en_domain = get_domain(row[\"URL_en\"])\n",
    "        en_document_variant = get_variant(en_text)\n",
    "        break\n",
    "    row['en_document_level_variant'] = en_document_variant\n",
    "    row['domain_en'] = en_domain\n",
    "    row['en_domain_level_variant'] = \"UNK\"\n",
    "\n",
    "\n",
    "    outdf = pd.read_csv(\n",
    "        os.path.join(\n",
    "            outdir,\n",
    "            file+\".ABClf_output.txt\"\n",
    "        ),\n",
    "        sep=\"\\t\"\n",
    "    )\n",
    "    print(f\"Shape of existing df: {outdf.shape}\")\n",
    "    first_line = pd.DataFrame(data=row).T\n",
    "    outdf = pd.concat([first_line, outdf], ignore_index=True).reset_index(drop=True)\n",
    "    print(f\"Shape of corrected df: {outdf.shape}\")\n",
    "    domain_variant = outdf.loc[outdf.domain_en == en_domain, \"en_document_level_variant\"].mode()[0]\n",
    "    outdf[\"en_domain_level_variant\"][0] = domain_variant\n",
    "    outdf.to_csv(\n",
    "        os.path.join(\n",
    "            outdir,\n",
    "            file+\".ABClf_output.txt\"\n",
    "        ),\n",
    "        sep=\"\\t\",\n",
    "        index=False\n",
    "    )\n",
    "\n"
   ]
  },
  {
   "cell_type": "code",
   "execution_count": null,
   "metadata": {},
   "outputs": [],
   "source": []
  },
  {
   "cell_type": "code",
   "execution_count": null,
   "metadata": {},
   "outputs": [],
   "source": []
  }
 ],
 "metadata": {
  "interpreter": {
   "hash": "7f6f5766036ee03d059e365a942add07f79c17033585e9357ee8157d52fe6bb9"
  },
  "kernelspec": {
   "display_name": "Python 3.8.3 ('base')",
   "language": "python",
   "name": "python3"
  },
  "language_info": {
   "codemirror_mode": {
    "name": "ipython",
    "version": 3
   },
   "file_extension": ".py",
   "mimetype": "text/x-python",
   "name": "python",
   "nbconvert_exporter": "python",
   "pygments_lexer": "ipython3",
   "version": "3.9.7"
  },
  "orig_nbformat": 4
 },
 "nbformat": 4,
 "nbformat_minor": 2
}
