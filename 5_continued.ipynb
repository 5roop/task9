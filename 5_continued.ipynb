{
 "cells": [
  {
   "cell_type": "code",
   "execution_count": 3,
   "metadata": {},
   "outputs": [
    {
     "name": "stderr",
     "output_type": "stream",
     "text": [
      "/home/peterr/anaconda3/lib/python3.9/site-packages/IPython/core/interactiveshell.py:3444: FutureWarning: The warn_bad_lines argument has been deprecated and will be removed in a future version.\n",
      "\n",
      "\n",
      "  exec(code_obj, self.user_global_ns, self.user_ns)\n",
      "/home/peterr/anaconda3/lib/python3.9/site-packages/IPython/core/interactiveshell.py:3444: FutureWarning: The error_bad_lines argument has been deprecated and will be removed in a future version.\n",
      "\n",
      "\n",
      "  exec(code_obj, self.user_global_ns, self.user_ns)\n"
     ]
    }
   ],
   "source": [
    "mydatadir = \"/data1/peterr/bilingual_data_for_ABClf\"\n",
    "outdir = \"/data1/peterr/bilingual_data_for_ABClf_output\"\n",
    "import os\n",
    "import pandas as pd\n",
    "from ABClf import load_lexicon, get_variant, count_variants\n",
    "\n",
    "lex = load_lexicon()\n",
    "lex_balanced = load_lexicon(balanced=True)\n",
    "\n",
    "import parse\n",
    "def get_domain(url:str) -> str:\n",
    "    pattern = \"{protocol}://{domain}/{rest}\"\n",
    "    p = parse.compile(pattern)\n",
    "    modified_pattern = \"{protocol}://{domain}/\"\n",
    "    mp = parse.compile(modified_pattern)\n",
    "    try:\n",
    "        parse_result = p.parse(url)\n",
    "        domain = parse_result[\"domain\"]\n",
    "    except TypeError:\n",
    "        parse_result = mp.parse(url)\n",
    "        domain = parse_result[\"domain\"]\n",
    "    return domain\n",
    "\n",
    "\n",
    "\n",
    "\n",
    "for file in os.listdir(mydatadir):\n",
    "    endpath = os.path.join(\n",
    "            outdir,\n",
    "            file+\"ABClf_output.csv\"\n",
    "        )\n",
    "    if os.path.basename(endpath) in os.listdir(outdir):\n",
    "        continue\n",
    "    if \"en-mk\" in file:\n",
    "        kwargs = dict(nrows=1200000)\n",
    "    else:\n",
    "        kwargs = dict()\n",
    "    df = pd.read_csv(\n",
    "        os.path.join(\n",
    "            mydatadir,\n",
    "            file,\n",
    "        ),\n",
    "        sep=\"\\t\",\n",
    "        error_bad_lines=False,\n",
    "        warn_bad_lines=False,\n",
    "        **kwargs\n",
    "    ).iloc[:, [0,2]]\n",
    "\n",
    "    df.columns=[\"url\", \"text\"]\n",
    "\n",
    "    s = df.groupby(\"url\")[\"text\"].apply(\" \".join)\n",
    "    \n",
    "\n",
    "    ndf = pd.DataFrame(s)\n",
    "    ndf[\"variant_unbalanced\"] = ndf.text.apply(lambda s: get_variant(s, lex=lex))\n",
    "    ndf[\"per_token_unbalanced\"] = ndf.text.apply(lambda s: count_variants(s, lex)[1])\n",
    "    ndf[\"variant_balanced\"] = ndf.text.apply(lambda s: get_variant(s, lex=lex_balanced))\n",
    "    ndf[\"per_token_balanced\"] = ndf.text.apply(lambda s: count_variants(s, lex_balanced)[1])\n",
    "    ndf[\"domain\"] = [get_domain(url) for url in ndf.index.values]\n",
    "\n",
    "    ndf.to_csv(\n",
    "        endpath\n",
    "    )\n",
    "    "
   ]
  },
  {
   "cell_type": "code",
   "execution_count": null,
   "metadata": {},
   "outputs": [],
   "source": []
  }
 ],
 "metadata": {
  "interpreter": {
   "hash": "7f6f5766036ee03d059e365a942add07f79c17033585e9357ee8157d52fe6bb9"
  },
  "kernelspec": {
   "display_name": "Python 3.8.3 ('base')",
   "language": "python",
   "name": "python3"
  },
  "language_info": {
   "codemirror_mode": {
    "name": "ipython",
    "version": 3
   },
   "file_extension": ".py",
   "mimetype": "text/x-python",
   "name": "python",
   "nbconvert_exporter": "python",
   "pygments_lexer": "ipython3",
   "version": "3.9.7"
  },
  "orig_nbformat": 4
 },
 "nbformat": 4,
 "nbformat_minor": 2
}
