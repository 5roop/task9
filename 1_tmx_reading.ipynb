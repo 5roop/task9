{
 "cells": [
  {
   "cell_type": "markdown",
   "metadata": {},
   "source": [
    "Target files:\n",
    "\n",
    "macocu-crawl1:/data1/lpla/macocu/permanent/bitextor-mt-output-en-{sl,hr,bg,mk}-paragraph-and-loomchild-and-bicleanerai/"
   ]
  },
  {
   "cell_type": "code",
   "execution_count": 5,
   "metadata": {},
   "outputs": [],
   "source": [
    "gzfiles = [\n",
    "    \"/data1/lpla/macocu/permanent/bitextor-mt-output-en-sl-paragraph-and-loomchild-and-bicleanerai/en-sl.deduped.txt.gz\",\n",
    "        \"/data1/lpla/macocu/permanent/bitextor-mt-output-en-hr-paragraph-and-loomchild-and-bicleanerai/en-hr.deduped.txt.gz\",\n",
    "        \"/data1/lpla/macocu/permanent/bitextor-mt-output-en-bg-paragraph-and-loomchild-and-bicleanerai/en-bg.deduped.txt.gz\",\n",
    "        \"/data1/lpla/macocu/permanent/bitextor-mt-output-en-mk-paragraph-and-loomchild-and-bicleanerai/en-mk.deduped.txt.gz\",\n",
    "        \n",
    "        ]\n",
    "import os\n",
    "mydatadir = \"/data1/peterr/bilingual_data_for_ABClf/\"\n",
    "for file in gzfiles:\n",
    "    os.system(f\"cp {file} {mydatadir}\")\n"
   ]
  },
  {
   "cell_type": "code",
   "execution_count": 9,
   "metadata": {},
   "outputs": [],
   "source": [
    "\n",
    "for file in os.listdir(mydatadir):\n",
    "    os.system(f\"gzip -d {os.path.join(mydatadir, file)}\")"
   ]
  }
 ],
 "metadata": {
  "interpreter": {
   "hash": "7f6f5766036ee03d059e365a942add07f79c17033585e9357ee8157d52fe6bb9"
  },
  "kernelspec": {
   "display_name": "Python 3.8.3 ('base')",
   "language": "python",
   "name": "python3"
  },
  "language_info": {
   "codemirror_mode": {
    "name": "ipython",
    "version": 3
   },
   "file_extension": ".py",
   "mimetype": "text/x-python",
   "name": "python",
   "nbconvert_exporter": "python",
   "pygments_lexer": "ipython3",
   "version": "3.9.7"
  },
  "orig_nbformat": 4
 },
 "nbformat": 4,
 "nbformat_minor": 2
}
