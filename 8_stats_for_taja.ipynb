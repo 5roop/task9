{
 "cells": [
  {
   "cell_type": "code",
   "execution_count": 1,
   "metadata": {},
   "outputs": [
    {
     "data": {
      "text/plain": [
       "131072"
      ]
     },
     "execution_count": 1,
     "metadata": {},
     "output_type": "execute_result"
    }
   ],
   "source": [
    "mydatadir = \"/data1/peterr/bilingual_data_for_ABClf\"\n",
    "outdir = \"/data1/peterr/bilingual_data_for_ABClf_output/tsv\"\n",
    "import os\n",
    "import pandas as pd\n",
    "from ABClf import load_lexicon, get_variant, count_variants, counts_to_category\n",
    "cols = \"URL_en    URL_is    sent_en    sent_is    bleualign_score    paragraph_id_en    paragraph_id_is    deferred_hash_en    deferred_hash_is          bifixer_hash    bifixer_score    bicleaner_ai_score\".split()\n",
    "lex = load_lexicon()\n",
    "\n",
    "\n",
    "import parse\n",
    "def get_domain(url:str) -> str:\n",
    "    pattern = \"{protocol}://{domain}/{rest}\"\n",
    "    p = parse.compile(pattern)\n",
    "    modified_pattern = \"{protocol}://{domain}/\"\n",
    "    mp = parse.compile(modified_pattern)\n",
    "    try:\n",
    "        parse_result = p.parse(url)\n",
    "        domain = parse_result[\"domain\"]\n",
    "    except TypeError:\n",
    "        parse_result = mp.parse(url)\n",
    "        domain = parse_result[\"domain\"]\n",
    "    return domain\n",
    "\n",
    "\n",
    "\n",
    "import sys\n",
    "import csv\n",
    "\n",
    "csv.field_size_limit(131072<<4)\n"
   ]
  },
  {
   "cell_type": "code",
   "execution_count": 3,
   "metadata": {},
   "outputs": [
    {
     "name": "stdout",
     "output_type": "stream",
     "text": [
      "hr\n",
      "en-hr.deduped.txt\n"
     ]
    }
   ],
   "source": [
    "\n",
    "file = 'en-hr.deduped.txt'\n",
    "\n",
    "lang = file[3:5]\n",
    "print(lang)\n",
    "\n",
    "endpath = os.path.join(\n",
    "        outdir,\n",
    "        file+\".ABClf_output.txt\",\n",
    "    )\n",
    "print(file)\n",
    "df = pd.read_csv(\n",
    "    os.path.join(\n",
    "        mydatadir,\n",
    "        file),\n",
    "    sep=\"\\t\",\n",
    "    engine=\"python\",\n",
    "    quoting=3,\n",
    "    on_bad_lines=\"warn\"\n",
    "    )\n",
    "\n",
    "df.columns = [col.replace(\"_is\", f\"_{lang}\") for col in cols]\n",
    "df[\"domain_en\"] = df.URL_en.apply(get_domain)\n",
    "df[\"domain_hr\"] = df.URL_hr.apply(get_domain)\n",
    "\n",
    "condition1 = df.domain_en == df.domain_en\n",
    "condition2 = df.bicleaner_ai_score > 0.5\n",
    "\n",
    "df = df[condition1 & condition2]\n",
    "\n",
    "gb = df.groupby(\"domain_hr\").count()[\"sent_en\"]"
   ]
  },
  {
   "cell_type": "code",
   "execution_count": null,
   "metadata": {},
   "outputs": [],
   "source": [
    "gb.sort_values(ascending=False).to_csv(\"8_sentences_per_domain_en-hr.csv\", sep=\"\\t\")"
   ]
  },
  {
   "cell_type": "code",
   "execution_count": 15,
   "metadata": {},
   "outputs": [
    {
     "name": "stdout",
     "output_type": "stream",
     "text": [
      "/home/peterr/macocu/task9\n"
     ]
    }
   ],
   "source": [
    "!pwd"
   ]
  },
  {
   "cell_type": "code",
   "execution_count": null,
   "metadata": {},
   "outputs": [],
   "source": []
  }
 ],
 "metadata": {
  "interpreter": {
   "hash": "7f6f5766036ee03d059e365a942add07f79c17033585e9357ee8157d52fe6bb9"
  },
  "kernelspec": {
   "display_name": "Python 3.9.7 ('base')",
   "language": "python",
   "name": "python3"
  },
  "language_info": {
   "codemirror_mode": {
    "name": "ipython",
    "version": 3
   },
   "file_extension": ".py",
   "mimetype": "text/x-python",
   "name": "python",
   "nbconvert_exporter": "python",
   "pygments_lexer": "ipython3",
   "version": "3.9.7"
  },
  "orig_nbformat": 4
 },
 "nbformat": 4,
 "nbformat_minor": 2
}
