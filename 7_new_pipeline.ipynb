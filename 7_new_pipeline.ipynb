{
 "cells": [
  {
   "cell_type": "code",
   "execution_count": 1,
   "metadata": {},
   "outputs": [
    {
     "data": {
      "text/plain": [
       "131072"
      ]
     },
     "execution_count": 1,
     "metadata": {},
     "output_type": "execute_result"
    }
   ],
   "source": [
    "mydatadir = \"/data1/peterr/bilingual_data_for_ABClf\"\n",
    "outdir = \"/data1/peterr/bilingual_data_for_ABClf_output/tsv\"\n",
    "import os\n",
    "import pandas as pd\n",
    "from ABClf import load_lexicon, get_variant, count_variants, counts_to_category\n",
    "cols = \"URL_en    URL_is    sent_en    sent_is    bleualign_score    paragraph_id_en    paragraph_id_is    deferred_hash_en    deferred_hash_is          bifixer_hash    bifixer_score    bicleaner_ai_score\".split()\n",
    "lex = load_lexicon()\n",
    "\n",
    "\n",
    "import parse\n",
    "def get_domain(url:str) -> str:\n",
    "    pattern = \"{protocol}://{domain}/{rest}\"\n",
    "    p = parse.compile(pattern)\n",
    "    modified_pattern = \"{protocol}://{domain}/\"\n",
    "    mp = parse.compile(modified_pattern)\n",
    "    try:\n",
    "        parse_result = p.parse(url)\n",
    "        domain = parse_result[\"domain\"]\n",
    "    except TypeError:\n",
    "        parse_result = mp.parse(url)\n",
    "        domain = parse_result[\"domain\"]\n",
    "    return domain\n",
    "\n",
    "\n",
    "\n",
    "import sys\n",
    "import csv\n",
    "\n",
    "csv.field_size_limit(131072<<4)\n"
   ]
  },
  {
   "cell_type": "code",
   "execution_count": 4,
   "metadata": {},
   "outputs": [
    {
     "name": "stdout",
     "output_type": "stream",
     "text": [
      "tr\n",
      "en-tr.deduped.txt\n"
     ]
    }
   ],
   "source": [
    "\n",
    "file = 'en-tr.deduped.txt'\n",
    "lang = file[3:5]\n",
    "print(lang)\n",
    "\n",
    "endpath = os.path.join(\n",
    "        outdir,\n",
    "        file+\".ABClf_output.txt\",\n",
    "    )\n",
    "print(file)\n",
    "df = pd.read_csv(\n",
    "    os.path.join(\n",
    "        mydatadir,\n",
    "        file),\n",
    "    sep=\"\\t\",\n",
    "    engine=\"python\",\n",
    "    quoting=3,\n",
    "    on_bad_lines=\"warn\",\n",
    "    ).dropna()\n",
    "\n",
    "df.columns = [col.replace(\"_is\", f\"_{lang}\") for col in cols]\n",
    "\n",
    "\n",
    "s = df.groupby(\"URL_en\")[\"sent_en\"].apply(\" \".join)\n",
    "ndf = pd.DataFrame(s)\n",
    "ndf[\"en_document_level_variant\"] = ndf.sent_en.apply(lambda s: get_variant(s, lex=lex))\n",
    "ndf[\"per_token_unbalanced\"] = ndf.sent_en.apply(lambda s: count_variants(s, lex)[1])\n",
    "ndf[\"domain_en\"] = [get_domain(url) for url in ndf.index.values]\n",
    "ndf[\"URL_en\"] = ndf.index\n",
    "\n",
    "df = pd.merge(\n",
    "        df,\n",
    "        ndf[['en_document_level_variant', 'per_token_unbalanced', 'domain_en',]],\n",
    "        how=\"left\",\n",
    "        left_on=\"URL_en\",\n",
    "        right_index=True,\n",
    "        sort=False,\n",
    "        suffixes=(\"_x\", \"_y\"),\n",
    "        copy=True,\n",
    "        indicator=False,\n",
    "        validate=None,\n",
    "        )\n",
    "del ndf\n"
   ]
  },
  {
   "cell_type": "code",
   "execution_count": 26,
   "metadata": {},
   "outputs": [
    {
     "name": "stdout",
     "output_type": "stream",
     "text": [
      "Ok, assigning variants...\n",
      "Nr of domains to process:  63626\n"
     ]
    }
   ],
   "source": [
    "\n",
    "df[\"en_domain_level_variant\"] = \"UNK\"\n",
    "counts = df.domain_en.value_counts()\n",
    "suitable_domains = counts[counts >= 3].index.values\n",
    "l = len(suitable_domains)\n",
    "pruned_df = df.loc[:, [\"per_token_unbalanced\", \"domain_en\"]].copy()\n",
    "def get_variant(domain):\n",
    "    subset = pruned_df.loc[pruned_df.domain_en == domain, :]\n",
    "    d = dict()\n",
    "    for line in subset.per_token_unbalanced.values:\n",
    "        if not line:\n",
    "            continue\n",
    "        for word, payload in line.items():\n",
    "            variant, count = payload.get(\"variant\"), payload.get(\"count\")\n",
    "            d[variant] = d.get(variant, 0) + 1\n",
    "    variant = counts_to_category(d)\n",
    "    return variant\n",
    "\n",
    "print(\"Ok, assigning variants...\")\n",
    "l = len(suitable_domains)\n",
    "print(\"Nr of domains to process: \", l)\n"
   ]
  },
  {
   "cell_type": "code",
   "execution_count": 27,
   "metadata": {},
   "outputs": [],
   "source": [
    "# from concurrent.futures import ProcessPoolExecutor, as_completed\n",
    "# suitable_domains = counts[counts >= 3].index.values[:636]\n",
    "# with ProcessPoolExecutor(max_workers=60) as executor:\n",
    "#     variants = list(executor.map(get_variant, suitable_domains))\n",
    "# print(\"Calculation finished. Assigning.\")\n",
    "\n",
    "gb = df.groupby(\"domain_en\").en_document_level_variant.agg(lambda x: pd.Series.mode(x).iloc[0])\n"
   ]
  },
  {
   "cell_type": "code",
   "execution_count": 29,
   "metadata": {},
   "outputs": [],
   "source": [
    "df = pd.merge(\n",
    "        df,\n",
    "        gb,\n",
    "        how=\"left\",\n",
    "        left_on=\"domain_en\",\n",
    "        right_index=True,\n",
    "        sort=False,\n",
    "\n",
    "        )\n",
    "        "
   ]
  },
  {
   "cell_type": "code",
   "execution_count": 34,
   "metadata": {},
   "outputs": [
    {
     "name": "stdout",
     "output_type": "stream",
     "text": [
      "Variant assigned, saving to  /data1/peterr/bilingual_data_for_ABClf_output/tsv/en-tr.deduped.txt.ABClf_output.txt\n"
     ]
    }
   ],
   "source": [
    "#df[\"en_document_level_variant\"] = df.en_document_level_variant_y\n",
    "#df = df.drop(columns=[\"en_document_level_variant_y\", \"en_document_level_variant_x\"])\n",
    "print(\"Variant assigned, saving to \", endpath)\n",
    "#df = df.drop(columns=\"per_token_unbalanced\")\n",
    "df.to_csv(\n",
    "    endpath,\n",
    "    index=False,\n",
    "    sep=\"\\t\"\n",
    ")"
   ]
  },
  {
   "cell_type": "markdown",
   "metadata": {},
   "source": [
    "60: "
   ]
  },
  {
   "cell_type": "code",
   "execution_count": 31,
   "metadata": {},
   "outputs": [
    {
     "data": {
      "text/html": [
       "<div>\n",
       "<style scoped>\n",
       "    .dataframe tbody tr th:only-of-type {\n",
       "        vertical-align: middle;\n",
       "    }\n",
       "\n",
       "    .dataframe tbody tr th {\n",
       "        vertical-align: top;\n",
       "    }\n",
       "\n",
       "    .dataframe thead th {\n",
       "        text-align: right;\n",
       "    }\n",
       "</style>\n",
       "<table border=\"1\" class=\"dataframe\">\n",
       "  <thead>\n",
       "    <tr style=\"text-align: right;\">\n",
       "      <th></th>\n",
       "      <th>URL_en</th>\n",
       "      <th>URL_tr</th>\n",
       "      <th>sent_en</th>\n",
       "      <th>sent_tr</th>\n",
       "      <th>bleualign_score</th>\n",
       "      <th>paragraph_id_en</th>\n",
       "      <th>paragraph_id_tr</th>\n",
       "      <th>deferred_hash_en</th>\n",
       "      <th>deferred_hash_tr</th>\n",
       "      <th>bifixer_hash</th>\n",
       "      <th>bifixer_score</th>\n",
       "      <th>bicleaner_ai_score</th>\n",
       "      <th>en_document_level_variant_x</th>\n",
       "      <th>domain_en</th>\n",
       "      <th>en_domain_level_variant</th>\n",
       "      <th>en_document_level_variant_y</th>\n",
       "    </tr>\n",
       "  </thead>\n",
       "  <tbody>\n",
       "    <tr>\n",
       "      <th>0</th>\n",
       "      <td>https://www.booking.com/hotel/pt/apartments-ma...</td>\n",
       "      <td>https://www.booking.com/hotel/hr/casa-sandra-d...</td>\n",
       "      <td>Can I park a car at Apartments Madeira City Ce...</td>\n",
       "      <td>Apartments Casa Toni Dubrovnik tesisinde teras...</td>\n",
       "      <td>0.190693</td>\n",
       "      <td>p788s0</td>\n",
       "      <td>p638s0</td>\n",
       "      <td>353c42d4b0dbf2dc</td>\n",
       "      <td>9a1416ecb90d12c1</td>\n",
       "      <td>00000047caab863f</td>\n",
       "      <td>93.73</td>\n",
       "      <td>0.288</td>\n",
       "      <td>A</td>\n",
       "      <td>www.booking.com</td>\n",
       "      <td>UNK</td>\n",
       "      <td>A</td>\n",
       "    </tr>\n",
       "    <tr>\n",
       "      <th>1</th>\n",
       "      <td>https://avesis.acibadem.edu.tr/activitycitatio...</td>\n",
       "      <td>https://avesis.comu.edu.tr/activitycitation/in...</td>\n",
       "      <td>@article{article, author={AYŞE SAĞDUYU KOCAMAN...</td>\n",
       "      <td>Kopyala @article{article, author={GÜLTEN GÜMÜŞ...</td>\n",
       "      <td>0.262317</td>\n",
       "      <td>p24s0+p24s1</td>\n",
       "      <td>p23s0+p24s0</td>\n",
       "      <td>478ba8b60b952259+d4d14ad9894005ae#1</td>\n",
       "      <td>aab6e1e426cb7342+ffd7bc8c6bb4d615#1</td>\n",
       "      <td>0000005c36321f6c</td>\n",
       "      <td>105.67</td>\n",
       "      <td>0.000</td>\n",
       "      <td>UNK</td>\n",
       "      <td>avesis.acibadem.edu.tr</td>\n",
       "      <td>UNK</td>\n",
       "      <td>UNK</td>\n",
       "    </tr>\n",
       "    <tr>\n",
       "      <th>2</th>\n",
       "      <td>https://arts.ozyegin.edu.tr/en/portfolio/bicycle</td>\n",
       "      <td>http://www.naybir.org/?product=2519869&amp;pt=Ar%C...</td>\n",
       "      <td>A sad boy on the right, neck and face leaning ...</td>\n",
       "      <td>Arı sokmasına karşı koruyan en önemli araçlard...</td>\n",
       "      <td>0.140880</td>\n",
       "      <td>p16s0</td>\n",
       "      <td>p39s0</td>\n",
       "      <td>d6a3ffa08fc6e0c9</td>\n",
       "      <td>273f7b825cc4a38c</td>\n",
       "      <td>0000007b37ac2248</td>\n",
       "      <td>100.51</td>\n",
       "      <td>0.021</td>\n",
       "      <td>UNK</td>\n",
       "      <td>arts.ozyegin.edu.tr</td>\n",
       "      <td>UNK</td>\n",
       "      <td>UNK</td>\n",
       "    </tr>\n",
       "  </tbody>\n",
       "</table>\n",
       "</div>"
      ],
      "text/plain": [
       "                                              URL_en  \\\n",
       "0  https://www.booking.com/hotel/pt/apartments-ma...   \n",
       "1  https://avesis.acibadem.edu.tr/activitycitatio...   \n",
       "2   https://arts.ozyegin.edu.tr/en/portfolio/bicycle   \n",
       "\n",
       "                                              URL_tr  \\\n",
       "0  https://www.booking.com/hotel/hr/casa-sandra-d...   \n",
       "1  https://avesis.comu.edu.tr/activitycitation/in...   \n",
       "2  http://www.naybir.org/?product=2519869&pt=Ar%C...   \n",
       "\n",
       "                                             sent_en  \\\n",
       "0  Can I park a car at Apartments Madeira City Ce...   \n",
       "1  @article{article, author={AYŞE SAĞDUYU KOCAMAN...   \n",
       "2  A sad boy on the right, neck and face leaning ...   \n",
       "\n",
       "                                             sent_tr  bleualign_score  \\\n",
       "0  Apartments Casa Toni Dubrovnik tesisinde teras...         0.190693   \n",
       "1  Kopyala @article{article, author={GÜLTEN GÜMÜŞ...         0.262317   \n",
       "2  Arı sokmasına karşı koruyan en önemli araçlard...         0.140880   \n",
       "\n",
       "  paragraph_id_en paragraph_id_tr                     deferred_hash_en  \\\n",
       "0          p788s0          p638s0                     353c42d4b0dbf2dc   \n",
       "1     p24s0+p24s1     p23s0+p24s0  478ba8b60b952259+d4d14ad9894005ae#1   \n",
       "2           p16s0           p39s0                     d6a3ffa08fc6e0c9   \n",
       "\n",
       "                      deferred_hash_tr      bifixer_hash  bifixer_score  \\\n",
       "0                     9a1416ecb90d12c1  00000047caab863f          93.73   \n",
       "1  aab6e1e426cb7342+ffd7bc8c6bb4d615#1  0000005c36321f6c         105.67   \n",
       "2                     273f7b825cc4a38c  0000007b37ac2248         100.51   \n",
       "\n",
       "   bicleaner_ai_score en_document_level_variant_x               domain_en  \\\n",
       "0               0.288                           A         www.booking.com   \n",
       "1               0.000                         UNK  avesis.acibadem.edu.tr   \n",
       "2               0.021                         UNK     arts.ozyegin.edu.tr   \n",
       "\n",
       "  en_domain_level_variant en_document_level_variant_y  \n",
       "0                     UNK                           A  \n",
       "1                     UNK                         UNK  \n",
       "2                     UNK                         UNK  "
      ]
     },
     "execution_count": 31,
     "metadata": {},
     "output_type": "execute_result"
    }
   ],
   "source": [
    "df.head(3)"
   ]
  },
  {
   "cell_type": "code",
   "execution_count": 11,
   "metadata": {},
   "outputs": [],
   "source": [
    "test = df.head(1000).groupby(\"domain_en\").en_document_level_variant.agg(pd.Series.mode)"
   ]
  },
  {
   "cell_type": "code",
   "execution_count": 21,
   "metadata": {},
   "outputs": [
    {
     "data": {
      "text/plain": [
       "'UNK'"
      ]
     },
     "execution_count": 21,
     "metadata": {},
     "output_type": "execute_result"
    }
   ],
   "source": [
    "test.values[5]"
   ]
  },
  {
   "cell_type": "code",
   "execution_count": 25,
   "metadata": {},
   "outputs": [
    {
     "data": {
      "text/plain": [
       "domain_en\n",
       "7thshare.com                    UNK\n",
       "abl.gtu.edu.tr                  UNK\n",
       "acikerisim.aku.edu.tr             A\n",
       "acikerisim.bartin.edu.tr          A\n",
       "acikerisim.erdogan.edu.tr         A\n",
       "                               ... \n",
       "yapimerkezi.com.tr                A\n",
       "yenimedya.wordpress.com           B\n",
       "yerel.siyasal.marmara.edu.tr    UNK\n",
       "zaviews.medium.com              UNK\n",
       "zeo.org                           A\n",
       "Name: en_document_level_variant, Length: 616, dtype: object"
      ]
     },
     "execution_count": 25,
     "metadata": {},
     "output_type": "execute_result"
    }
   ],
   "source": [
    "test = df.head(1000).groupby(\"domain_en\").en_document_level_variant.agg(lambda x: pd.Series.mode(x).iloc[0])\n",
    "\n",
    "test"
   ]
  },
  {
   "cell_type": "code",
   "execution_count": null,
   "metadata": {},
   "outputs": [],
   "source": []
  }
 ],
 "metadata": {
  "interpreter": {
   "hash": "31f2aee4e71d21fbe5cf8b01ff0e069b9275f58929596ceb00d14d90e3e16cd6"
  },
  "kernelspec": {
   "display_name": "Python 3.6.9 64-bit",
   "language": "python",
   "name": "python3"
  },
  "language_info": {
   "codemirror_mode": {
    "name": "ipython",
    "version": 3
   },
   "file_extension": ".py",
   "mimetype": "text/x-python",
   "name": "python",
   "nbconvert_exporter": "python",
   "pygments_lexer": "ipython3",
   "version": "3.8.3"
  },
  "orig_nbformat": 4
 },
 "nbformat": 4,
 "nbformat_minor": 2
}
